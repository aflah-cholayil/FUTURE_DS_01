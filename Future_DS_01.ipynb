{
 "cells": [
  {
   "cell_type": "code",
   "execution_count": 1,
   "id": "1c251767-6796-469b-a95e-17c260e8813a",
   "metadata": {},
   "outputs": [],
   "source": [
    "import pandas as pd\n",
    "import re\n",
    "import nltk\n",
    "from nltk.corpus import stopwords\n",
    "from nltk.tokenize import word_tokenize\n",
    "from nltk.stem import WordNetLemmatizer\n",
    "from textblob import TextBlob\n",
    "import matplotlib.pyplot as plt\n",
    "import seaborn as sns"
   ]
  },
  {
   "cell_type": "code",
   "execution_count": 2,
   "id": "f67adf7d-de5a-4294-8050-2201c54ccf6a",
   "metadata": {},
   "outputs": [
    {
     "name": "stderr",
     "output_type": "stream",
     "text": [
      "[nltk_data] Downloading package punkt to\n",
      "[nltk_data]     C:\\Users\\aflah\\AppData\\Roaming\\nltk_data...\n",
      "[nltk_data]   Package punkt is already up-to-date!\n",
      "[nltk_data] Downloading package stopwords to\n",
      "[nltk_data]     C:\\Users\\aflah\\AppData\\Roaming\\nltk_data...\n",
      "[nltk_data]   Package stopwords is already up-to-date!\n",
      "[nltk_data] Downloading package wordnet to\n",
      "[nltk_data]     C:\\Users\\aflah\\AppData\\Roaming\\nltk_data...\n",
      "[nltk_data]   Package wordnet is already up-to-date!\n"
     ]
    },
    {
     "data": {
      "text/plain": [
       "True"
      ]
     },
     "execution_count": 2,
     "metadata": {},
     "output_type": "execute_result"
    }
   ],
   "source": [
    "nltk.download(\"punkt\")  # For tokenization\n",
    "nltk.download(\"stopwords\")  # For stopwords\n",
    "nltk.download(\"wordnet\")  # For lemmatization\n"
   ]
  },
  {
   "cell_type": "code",
   "execution_count": 3,
   "id": "dcb02643-1baa-4e9f-8412-d2d1650dda12",
   "metadata": {},
   "outputs": [
    {
     "name": "stdout",
     "output_type": "stream",
     "text": [
      "Columns in DataFrame: Index(['Review'], dtype='object')\n"
     ]
    }
   ],
   "source": [
    "file_path = r\"C:\\Users\\aflah\\OneDrive\\Desktop\\Future Intern Tasks\\test.ft.txt\"  # Change this to your actual file path\n",
    "\n",
    "# Read the file and convert it into a DataFrame\n",
    "with open(file_path, \"r\", encoding=\"utf-8\") as file:\n",
    "    reviews = file.readlines()\n",
    "\n",
    "# Remove empty lines\n",
    "reviews = [review.strip() for review in reviews if review.strip()]\n",
    "\n",
    "# Create a DataFrame\n",
    "df = pd.DataFrame(reviews, columns=[\"Review\"])\n",
    "\n",
    "# Check if the 'Review' column exists\n",
    "print(\"Columns in DataFrame:\", df.columns)"
   ]
  },
  {
   "cell_type": "code",
   "execution_count": 4,
   "id": "a90c270e-db6a-4ecc-80e2-c63882eb4cc4",
   "metadata": {},
   "outputs": [
    {
     "name": "stdout",
     "output_type": "stream",
     "text": [
      "Columns after preprocessing: Index(['Review', 'Cleaned_Review'], dtype='object')\n",
      "                                              Review  \\\n",
      "0  __label__2 Great CD: My lovely Pat has one of ...   \n",
      "1  __label__2 One of the best game music soundtra...   \n",
      "2  __label__1 Batteries died within a year ...: I...   \n",
      "3  __label__2 works fine, but Maha Energy is bett...   \n",
      "4  __label__2 Great for the non-audiophile: Revie...   \n",
      "\n",
      "                                      Cleaned_Review  \n",
      "0  label great cd lovely pat one great voice gene...  \n",
      "1  label one best game music soundtrack game didn...  \n",
      "2  label battery died within year bought charger ...  \n",
      "3  label work fine maha energy better check maha ...  \n",
      "4  label great nonaudiophile reviewed quite bit c...  \n"
     ]
    }
   ],
   "source": [
    "# Initialize lemmatizer and stopwords\n",
    "lemmatizer = WordNetLemmatizer()\n",
    "stop_words = set(stopwords.words(\"english\"))\n",
    "\n",
    "# Function for text preprocessing\n",
    "def preprocess_text(text):\n",
    "    text = text.lower()  # Convert to lowercase\n",
    "    text = re.sub(r\"[^a-z\\s]\", \"\", text)  # Remove special characters & numbers\n",
    "    words = word_tokenize(text)  # Tokenization\n",
    "    words = [lemmatizer.lemmatize(word) for word in words if word not in stop_words]  # Lemmatization & stopword removal\n",
    "    return \" \".join(words)\n",
    "\n",
    "# Apply preprocessing\n",
    "df[\"Cleaned_Review\"] = df[\"Review\"].apply(preprocess_text)\n",
    "\n",
    "# Ensure 'Cleaned_Review' column is created\n",
    "print(\"Columns after preprocessing:\", df.columns)\n",
    "print(df.head())  # Display first few rows"
   ]
  },
  {
   "cell_type": "code",
   "execution_count": 5,
   "id": "a401c4aa-875c-4742-a6a9-189be2aa2991",
   "metadata": {},
   "outputs": [
    {
     "name": "stdout",
     "output_type": "stream",
     "text": [
      "Sentiment_Label\n",
      "Positive    302132\n",
      "Negative     89678\n",
      "Neutral       8190\n",
      "Name: count, dtype: int64\n"
     ]
    }
   ],
   "source": [
    "# Function to analyze sentiment\n",
    "def get_sentiment(text):\n",
    "    analysis = TextBlob(text)\n",
    "    polarity = analysis.sentiment.polarity  # Ranges from -1 to 1\n",
    "    if polarity > 0:\n",
    "        return \"Positive\"\n",
    "    elif polarity < 0:\n",
    "        return \"Negative\"\n",
    "    else:\n",
    "        return \"Neutral\"\n",
    "\n",
    "# Apply sentiment analysis\n",
    "df[\"Sentiment_Label\"] = df[\"Cleaned_Review\"].apply(get_sentiment)\n",
    "\n",
    "# Display sentiment distribution\n",
    "print(df[\"Sentiment_Label\"].value_counts())"
   ]
  },
  {
   "cell_type": "code",
   "execution_count": 6,
   "id": "5e863831-b839-4f73-9c0b-30d67fd18106",
   "metadata": {},
   "outputs": [
    {
     "name": "stderr",
     "output_type": "stream",
     "text": [
      "C:\\Users\\aflah\\AppData\\Local\\Temp\\ipykernel_45244\\2363893562.py:2: FutureWarning: \n",
      "\n",
      "Passing `palette` without assigning `hue` is deprecated and will be removed in v0.14.0. Assign the `x` variable to `hue` and set `legend=False` for the same effect.\n",
      "\n",
      "  sns.countplot(x=df[\"Sentiment_Label\"], palette=\"coolwarm\")\n"
     ]
    },
    {
     "data": {
      "image/png": "[encoded data removed]",
      "text/plain": [
       "<Figure size 600x400 with 1 Axes>"
      ]
     },
     "metadata": {},
     "output_type": "display_data"
    }
   ],
   "source": [
    "plt.figure(figsize=(6, 4))\n",
    "sns.countplot(x=df[\"Sentiment_Label\"], palette=\"coolwarm\")\n",
    "plt.title(\"Sentiment Distribution\")\n",
    "plt.xlabel(\"Sentiment\")\n",
    "plt.ylabel(\"Count\")\n",
    "plt.show()"
   ]
  },
  {
   "cell_type": "code",
   "execution_count": 7,
   "id": "e26e6372-bb9b-4913-af2e-bd8655dba6a8",
   "metadata": {},
   "outputs": [
    {
     "name": "stdout",
     "output_type": "stream",
     "text": [
      "Data saved successfully as sentiment_analysis_results.csv\n"
     ]
    }
   ],
   "source": [
    "df.to_csv(\"sentiment_analysis_results.csv\", index=False)\n",
    "print(\"Data saved successfully as sentiment_analysis_results.csv\")"
   ]
  }
 ],
 "metadata": {
  "kernelspec": {
   "display_name": "Python 3 (ipykernel)",
   "language": "python",
   "name": "python3"
  },
  "language_info": {
   "codemirror_mode": {
    "name": "ipython",
    "version": 3
   },
   "file_extension": ".py",
   "mimetype": "text/x-python",
   "name": "python",
   "nbconvert_exporter": "python",
   "pygments_lexer": "ipython3",
   "version": "3.13.2"
  }
 },
 "nbformat": 4,
 "nbformat_minor": 5
}
